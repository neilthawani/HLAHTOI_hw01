{
 "cells": [
  {
   "cell_type": "markdown",
   "metadata": {},
   "source": [
    "## Neil Thawani\n",
    "\n",
    "## Human Learning and How to Optimize It\n",
    "\n",
    "## Model Human Learner Assignment 1\n",
    "\n",
    "## Problems, Principles, & Equations for Memory & Fluency\n",
    "\n",
    "## 7 February 2020\n",
    "\n",
    "Murre and Dros (2015) used multiple studies to validate their findings in replicating the work on the \"forgetting curve,\" originally pioneered by Ebbinghaus. These parameter values are based on Ebbinghaus's (1880) work.\n",
    "\n",
    "Walsh et al. (2018) conducted an analysis of three models of the spacing effect in learning.\n",
    "\n",
    "In this code, I reference the ACT-R model (Pavlik and Anderson, 2005), expanding upon its result, the activation level, by applying the work done by Murre and Dros.\n",
    "\n",
    "### The Memory Chain Model, a model of forgetting and amnesia\n",
    "\n",
    "![Memory Chain Model](mcm.png)\n",
    "\n",
    "- *myu_1* is the initial strength of the memory traces in store 1,\n",
    "- *a_1* is the decay rate in store 1,\n",
    "- *myu_2* is the rate of consolidating the contents of store 1 to store 2, and\n",
    "- *a_2* is the decay rate in store 2\n",
    "\n",
    "Under the conditions of this experiment, store 1 is the hippocampus, where memory exponentially declines in intensity and store 2 is the neocortex, where memory contents are steadily transferred for long-term retention and decline at a lower rate.\n",
    "\n",
    "I applied Murre and Dros' equation to Walsh et al.'s (2018) work investigating [ACT-R](Pavlik_Anderson_2005.pdf) and two other models of spaced memory practice and, I think, expanded the accuracy of the activation likelihood predictions made by ACT-R's simplified implementation of Ebbinghaus' classic forgetting curve.\n",
    "\n",
    "### ACT-R Activation Equation\n",
    "\n",
    "![ACT-R Activation Equation](act-r_activation.png)\n",
    "\n",
    "Further work could use ACT-R's models of spaced practice and retention; however, I strongly suggest investigating Walsh et al.'s claims that ACT-R is not the best means (of the three they investigated) to model accelerated relearning.\n",
    "\n",
    "### Sources\n",
    "\n",
    "Murre JMJ, Dros J. (2015). Replication and Analysis of Ebbinghaus’ Forgetting Curve. PLoS ONE 10(7): e0120644. doi:10.1371/journal. pone.0120644\n",
    "\n",
    "Ebbinghaus H. (1880). Urmanuskript \"Ueber das Gedächtniß\". Passau: Passavia Universitätsverlag.\n",
    "\n",
    "Pavlik, PI & Anderson, JR. (2005). Practice and forgetting effects on vocabulary memory: An Activation-based model of the spacing effect. Cognitive Science, 29, 559-586.\n",
    "\n",
    "Walsh, M.M., Gluck, K.A., Gunzelmann, G., Jastrzembski, T., Krusmark, M., Myung, J.I., Pitt, M.A., & Zhou, R. (2018). Mechanisms underlying the spacing effect in learning: A comparison of three computational models. Journal of Experimental Psychology: General, 147, (9):1325-1348."
   ]
  },
  {
   "cell_type": "markdown",
   "metadata": {},
   "source": [
    "### Memory Chain Model"
   ]
  },
  {
   "cell_type": "code",
   "execution_count": 1,
   "metadata": {},
   "outputs": [],
   "source": [
    "import math\n",
    "import numpy as np\n",
    "import matplotlib.pyplot as plt\n",
    "\n",
    "def mcm(t, myu_1, a_1, myu_2, a_2):\n",
    "    memory_chain_model = []\n",
    "    \n",
    "    for t_value in t:\n",
    "        forgetting_curve = myu_1 * math.exp(-a_1 * t_value)\n",
    "        rate_of_consolidation = (myu_1 * myu_2 * (math.exp(-a_2 * t_value) - math.exp(-a_1 * t_value))) / (a_1 - a_2)\n",
    "        memory_chain_model.append(forgetting_curve + rate_of_consolidation)\n",
    "        \n",
    "    return memory_chain_model\n",
    "\n",
    "def fit_data_and_plot(x, y, title, x_label, y_label):\n",
    "    plt.plot(x, y, '.')\n",
    "    \n",
    "    plt.title(title)\n",
    "    plt.xlabel(x_label)\n",
    "    plt.ylabel(y_label)\n",
    "\n",
    "    return plt"
   ]
  },
  {
   "cell_type": "code",
   "execution_count": 2,
   "metadata": {
    "scrolled": true
   },
   "outputs": [
    {
     "data": {
      "image/png": "[encoded data removed]",
      "text/plain": [
       "<Figure size 432x288 with 1 Axes>"
      ]
     },
     "metadata": {
      "needs_background": "light"
     },
     "output_type": "display_data"
    }
   ],
   "source": [
    "t = []\n",
    "myu_1 = 0.704 # initial strength of the memory traces in store 1\n",
    "a_1 = 0.000319 # decay rate in store 1\n",
    "myu_2 = 0.000145 # rate of consolidating the contents of store 1 to store 2\n",
    "a_2 = 1.79 * 10**-7 # decay rate in store 2\n",
    "\n",
    "# unchanging decay rate\n",
    "# savings: relative amount of time saved on the second learning trial as a result of having had the first\n",
    "# scalar: days to seconds conversion\n",
    "\n",
    "scalar = 24 * 60 * 60\n",
    "\n",
    "# convert 40 days to minutes\n",
    "total_t = 40 * 24 * 60\n",
    "t = np.arange(0, total_t + 1, 1)\n",
    "Qt = mcm(t, myu_1, a_1, myu_2, a_2)\n",
    "plt = fit_data_and_plot(t, Qt, \"Base Forgetting Curve\", \"Time (seconds)\", \"Savings\")\n",
    "\n",
    "# savings after ...\n",
    "# 20 min\n",
    "plt.axvline(x = 20)\n",
    "# 1 hour\n",
    "plt.axvline(x = 60)\n",
    "# 9 hours\n",
    "plt.axvline(x = 9 * 60)\n",
    "# 1 day\n",
    "plt.axvline(x = 1 * 24 * 60)\n",
    "# 2 days\n",
    "plt.axvline(x = 2 * 24 * 60)\n",
    "# 31 days\n",
    "plt.axvline(x = 31 * 24 * 60)\n",
    "\n",
    "plt.show()"
   ]
  },
  {
   "cell_type": "markdown",
   "metadata": {},
   "source": [
    "### The ACT-R Activation Equation"
   ]
  },
  {
   "cell_type": "code",
   "execution_count": 3,
   "metadata": {},
   "outputs": [],
   "source": [
    "def activation_of_item(practice_array, decay_rate):\n",
    "    sum = 0\n",
    "    \n",
    "    for i in range(0, len(practice_array)):\n",
    "        savings = practice_array[i]\n",
    "        sum += savings\n",
    "    \n",
    "    return np.log(sum)\n",
    "\n",
    "def get_Qt_array_for_practice_times(Qt_forgetting_curve, practice_array):\n",
    "    Qt_array = []\n",
    "    \n",
    "    for i in range(0, len(practice_array)):\n",
    "        Qt_array.append(Qt_forgetting_curve[practice_array[i]])\n",
    "    \n",
    "    return Qt_array"
   ]
  },
  {
   "cell_type": "code",
   "execution_count": 4,
   "metadata": {},
   "outputs": [],
   "source": [
    "def probability_of_recalling_knowledge_chunk(activation):\n",
    "    tau = 0 # threshold below which B_n is not likely to be remembered\n",
    "    s = 1 # production rule\n",
    "    Pt = 1 / (1 + math.exp(-activation-tau)/s)\n",
    "    return Pt"
   ]
  },
  {
   "cell_type": "code",
   "execution_count": 5,
   "metadata": {},
   "outputs": [
    {
     "name": "stdout",
     "output_type": "stream",
     "text": [
      "Activation of spaced practice, long-term retention: 1.0331444422091687 Probability of recall: 0.7375250572355064\n",
      "Activation of spaced practice, long-term retention: 0.8108159150943953 Probability of recall: 0.6922833436045245\n",
      "Activation of spaced practice, long-term retention: 0.7670150678687554 Probability of recall: 0.6828748395470994\n",
      "Activation of spaced practice, long-term retention: 0.6061525696701945 Probability of recall: 0.6470626524562756\n"
     ]
    }
   ],
   "source": [
    "minutes_in_day = 1440\n",
    "\n",
    "massed_short = np.array([14, 13, 12, 11])\n",
    "B_n = activation_of_item(get_Qt_array_for_practice_times(Qt, massed_short), a_1)\n",
    "p = probability_of_recalling_knowledge_chunk(B_n)\n",
    "print(\"Activation of spaced practice, long-term retention:\", B_n, \"Probability of recall:\", p)\n",
    "\n",
    "massed_long = np.array([minutes_in_day+3, minutes_in_day+2, minutes_in_day+1, minutes_in_day])\n",
    "B_n = activation_of_item(get_Qt_array_for_practice_times(Qt, massed_long), a_1)\n",
    "p = probability_of_recalling_knowledge_chunk(B_n)\n",
    "print(\"Activation of spaced practice, long-term retention:\", B_n, \"Probability of recall:\", p)\n",
    "\n",
    "spaced_short = np.array([3*minutes_in_day+11, 2*minutes_in_day+11, minutes_in_day+11, 11])\n",
    "B_n = activation_of_item(get_Qt_array_for_practice_times(Qt, spaced_short), a_1)\n",
    "p = probability_of_recalling_knowledge_chunk(B_n)\n",
    "print(\"Activation of spaced practice, long-term retention:\", B_n, \"Probability of recall:\", p)\n",
    "\n",
    "spaced_long = np.array([minutes_in_day*4, minutes_in_day*3, minutes_in_day*2, minutes_in_day])\n",
    "B_n = activation_of_item(get_Qt_array_for_practice_times(Qt, spaced_long), a_1)\n",
    "p = probability_of_recalling_knowledge_chunk(B_n)\n",
    "print(\"Activation of spaced practice, long-term retention:\", B_n, \"Probability of recall:\", p)"
   ]
  },
  {
   "cell_type": "code",
   "execution_count": null,
   "metadata": {},
   "outputs": [],
   "source": []
  },
  {
   "cell_type": "code",
   "execution_count": null,
   "metadata": {},
   "outputs": [],
   "source": []
  }
 ],
 "metadata": {
  "kernelspec": {
   "display_name": "Python 3",
   "language": "python",
   "name": "python3"
  },
  "language_info": {
   "codemirror_mode": {
    "name": "ipython",
    "version": 3
   },
   "file_extension": ".py",
   "mimetype": "text/x-python",
   "name": "python",
   "nbconvert_exporter": "python",
   "pygments_lexer": "ipython3",
   "version": "3.7.6"
  }
 },
 "nbformat": 4,
 "nbformat_minor": 2
}
