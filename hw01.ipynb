{
 "cells": [
  {
   "cell_type": "code",
   "execution_count": 1,
   "metadata": {},
   "outputs": [],
   "source": [
    "# Neil Thawani\n",
    "# Human Learning and How to Optimize It\n",
    "# Model Human Learner Assignment 1\n",
    "# Problems, Principles, & Equations for Memory & Fluency\n",
    "# 7 February 2020\n",
    "\n",
    "# Murre JMJ, Dros J (2015) Replication and Analysis of Ebbinghaus’ Forgetting Curve. PLoS ONE 10(7): e0120644. doi:10.1371/journal. pone.0120644\n",
    "\n",
    "# Murre and Dros used multiple studies to validate their findings. These parameter values are based on:\n",
    "# Ebbinghaus H (1880) Urmanuskript \"Ueber das Gedächtniß\". Passau: Passavia Universitätsverlag.\n",
    "\n",
    "# Matthew M. Walsh, Kevin A. Gluck, Glenn Gunzelmann, Tiffany Jastrzembski, Michael Krusmark, Jay I. Myung, Mark A. Pitt & Ran Zhou. Mechanisms underlying the spacing effect in learning: A comparison of three computational models. Journal of Experimental Psychology: General 147 (9):1325-1348 (2018)\n",
    "\n",
    "# Walsh et al. conducted an analysis of three models of the spacing effect in learning.\n",
    "# In this code, I reference the ACT-R model:\n",
    "# Pavlik, P. I., & Anderson, J. R. (2005). Practice and forgetting effects on vocabulary memory: An Activation-based model of the spacing effect. Cognitive Science, 29, 559-586."
   ]
  },
  {
   "cell_type": "markdown",
   "metadata": {},
   "source": [
    "### Memory Chain Model"
   ]
  },
  {
   "cell_type": "markdown",
   "metadata": {},
   "source": [
    "![Memory Chain Model](mcm.png)"
   ]
  },
  {
   "cell_type": "code",
   "execution_count": 2,
   "metadata": {},
   "outputs": [],
   "source": [
    "import math\n",
    "import numpy as np\n",
    "import matplotlib.pyplot as plt\n",
    "\n",
    "def mcm(t, myu_1, a_1, myu_2, a_2):\n",
    "    memory_chain_model = []\n",
    "    \n",
    "    for t_value in t:\n",
    "        forgetting_curve = myu_1 * math.exp(-a_1 * t_value)\n",
    "        rate_of_consolidation = (myu_1 * myu_2 * (math.exp(-a_2 * t_value) - math.exp(-a_1 * t_value))) / (a_1 - a_2)\n",
    "        memory_chain_model.append(forgetting_curve + rate_of_consolidation)\n",
    "        \n",
    "    return memory_chain_model\n",
    "\n",
    "def fit_data_and_plot(x, y, title, x_label, y_label):\n",
    "    plt.plot(x, y, '.')\n",
    "    \n",
    "    plt.title(title)\n",
    "    plt.xlabel(x_label)\n",
    "    plt.ylabel(y_label)\n",
    "\n",
    "    return plt"
   ]
  },
  {
   "cell_type": "code",
   "execution_count": 3,
   "metadata": {
    "scrolled": true
   },
   "outputs": [
    {
     "data": {
      "image/png": "[encoded data removed]",
      "text/plain": [
       "<Figure size 432x288 with 1 Axes>"
      ]
     },
     "metadata": {
      "needs_background": "light"
     },
     "output_type": "display_data"
    }
   ],
   "source": [
    "t = []\n",
    "myu_1 = 0.704 # initial strength of the memory traces in store 1\n",
    "a_1 = 0.000319 # decay rate in store 1\n",
    "myu_2 = 0.000145 # rate of consolidating the contents of store 1 to store 2\n",
    "a_2 = 1.79 * 10**-7 # decay rate in store 2\n",
    "\n",
    "# unchanging decay rate\n",
    "# savings: relative amount of time saved on the second learning trial as a result of having had the first\n",
    "# scalar: days to seconds conversion\n",
    "\n",
    "scalar = 24 * 60 * 60\n",
    "\n",
    "# convert 40 days to seconds\n",
    "total_t = 40 * scalar\n",
    "t = np.arange(0, total_t + 1, 1)\n",
    "Qt = mcm(t, myu_1, a_1, myu_2, a_2)\n",
    "plt = fit_data_and_plot(t, Qt, \"Base Forgetting Curve\", \"Time (seconds)\", \"Savings\")\n",
    "\n",
    "# savings after ...\n",
    "# 20 min\n",
    "plt.axvline(x = 20 * 60)\n",
    "# 1 hour\n",
    "plt.axvline(x = 1 * 60 * 60)\n",
    "# 9 hours\n",
    "plt.axvline(x = 9 * 60 * 60)\n",
    "# 1 day\n",
    "plt.axvline(x = 1 * 24 * 60 * 60)\n",
    "# 2 days\n",
    "plt.axvline(x = 2 * 24 * 60 * 60)\n",
    "# 31 days\n",
    "plt.axvline(x = 31 * 24 * 60)\n",
    "\n",
    "plt.show()"
   ]
  },
  {
   "cell_type": "markdown",
   "metadata": {},
   "source": [
    "### The ACT-R Activation Equation"
   ]
  },
  {
   "cell_type": "markdown",
   "metadata": {},
   "source": [
    "![Act-R Activation Level](act-r_activation.png)"
   ]
  },
  {
   "cell_type": "code",
   "execution_count": 4,
   "metadata": {},
   "outputs": [],
   "source": [
    "def activation_of_item(practice_array, decay_rate):\n",
    "    sum = 0\n",
    "    \n",
    "    for i in range(0, len(practice_array)):\n",
    "        savings = practice_array[i]\n",
    "        sum += savings\n",
    "    \n",
    "    return np.log(sum)\n",
    "\n",
    "def get_Qt_array_for_practice_times(Qt_forgetting_curve, practice_array):\n",
    "    Qt_array = []\n",
    "    \n",
    "    for i in range(0, len(practice_array)):\n",
    "        Qt_array.append(Qt_forgetting_curve[practice_array[i]])\n",
    "    \n",
    "    return Qt_array"
   ]
  },
  {
   "cell_type": "code",
   "execution_count": 5,
   "metadata": {},
   "outputs": [
    {
     "name": "stdout",
     "output_type": "stream",
     "text": [
      "Activation of massed practice, short-term retention: 0.20890684937453183\n",
      "Activation of spcaed practice, short-term retention: 0.014870465420651156\n",
      "Activation of massed practice, long-term retention: 0.069716449374198\n",
      "Activation of spaced practice, long-term retention: -0.12431993457975411\n"
     ]
    }
   ],
   "source": [
    "massed_short = np.array([4, 3, 2, 1]) * scalar\n",
    "B_n = activation_of_item(get_Qt_array_for_practice_times(Qt, massed_short), a_1)\n",
    "print(\"Activation of massed practice, short-term retention:\", B_n)\n",
    "\n",
    "spaced_short = np.array([31, 21, 11, 1]) * scalar\n",
    "B_n = activation_of_item(get_Qt_array_for_practice_times(Qt, spaced_short), a_1)\n",
    "print(\"Activation of spcaed practice, short-term retention:\", B_n)\n",
    "\n",
    "massed_long = np.array([13, 12, 11, 10]) * scalar\n",
    "B_n = activation_of_item(get_Qt_array_for_practice_times(Qt, massed_long), a_1)\n",
    "print(\"Activation of massed practice, long-term retention:\", B_n)\n",
    "\n",
    "spaced_long = np.array([40, 30, 20, 10]) * scalar\n",
    "B_n = activation_of_item(get_Qt_array_for_practice_times(Qt, spaced_long), a_1)\n",
    "print(\"Activation of spaced practice, long-term retention:\", B_n)"
   ]
  },
  {
   "cell_type": "code",
   "execution_count": null,
   "metadata": {},
   "outputs": [],
   "source": []
  }
 ],
 "metadata": {
  "kernelspec": {
   "display_name": "Python 3",
   "language": "python",
   "name": "python3"
  },
  "language_info": {
   "codemirror_mode": {
    "name": "ipython",
    "version": 3
   },
   "file_extension": ".py",
   "mimetype": "text/x-python",
   "name": "python",
   "nbconvert_exporter": "python",
   "pygments_lexer": "ipython3",
   "version": "3.7.6"
  }
 },
 "nbformat": 4,
 "nbformat_minor": 2
}
